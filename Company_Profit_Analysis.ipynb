{
  "nbformat": 4,
  "nbformat_minor": 0,
  "metadata": {
    "colab": {
      "provenance": []
    },
    "kernelspec": {
      "name": "python3",
      "display_name": "Python 3"
    },
    "language_info": {
      "name": "python"
    }
  },
  "cells": [
    {
      "cell_type": "markdown",
      "source": [
        "##Profit Prediction Using Multiple Regression Techniques using Company Dataset"
      ],
      "metadata": {
        "id": "f7W_t4Bbv82c"
      }
    },
    {
      "cell_type": "markdown",
      "source": [
        "Import Libraries"
      ],
      "metadata": {
        "id": "wvcYj9BPwlvU"
      }
    },
    {
      "cell_type": "code",
      "execution_count": null,
      "metadata": {
        "id": "zq0H0U2YvpLC"
      },
      "outputs": [],
      "source": [
        "import pandas as pd\n",
        "import numpy as np\n",
        "import seaborn as sns\n",
        "from sklearn.model_selection import train_test_split\n",
        "from sklearn.linear_model import LinearRegression, Ridge, Lasso,ElasticNet\n",
        "from sklearn.tree import DecisionTreeRegressor\n",
        "from sklearn.ensemble import RandomForestRegressor\n",
        "from sklearn.preprocessing import PolynomialFeatures\n",
        "from sklearn.pipeline import make_pipeline\n",
        "from sklearn.metrics import mean_absolute_error, mean_squared_error, r2_score"
      ]
    },
    {
      "cell_type": "markdown",
      "source": [
        "Library Versions Check"
      ],
      "metadata": {
        "id": "885jDP7ax14V"
      }
    },
    {
      "cell_type": "code",
      "source": [
        "import numpy\n",
        "import pandas\n",
        "import sklearn\n",
        "import joblib\n",
        "\n",
        "print(\"numpy:\", numpy.__version__)\n",
        "print(\"pandas:\", pandas.__version__)\n",
        "print(\"scikit-learn:\", sklearn.__version__)\n",
        "print(\"joblib:\", joblib.__version__)\n",
        "\n"
      ],
      "metadata": {
        "colab": {
          "base_uri": "https://localhost:8080/"
        },
        "id": "ySibIWR7x2by",
        "outputId": "14a589fe-d13a-4ae6-873e-cb592b5ac983"
      },
      "execution_count": null,
      "outputs": [
        {
          "output_type": "stream",
          "name": "stdout",
          "text": [
            "numpy: 2.0.2\n",
            "pandas: 2.2.2\n",
            "scikit-learn: 1.6.1\n",
            "joblib: 1.4.2\n"
          ]
        }
      ]
    },
    {
      "cell_type": "markdown",
      "source": [
        "Data Loading"
      ],
      "metadata": {
        "id": "9G4WA2u7wnYC"
      }
    },
    {
      "cell_type": "code",
      "source": [
        "df = pd.read_csv('50_Startups.csv')"
      ],
      "metadata": {
        "id": "YcUhv-u1wgmS"
      },
      "execution_count": null,
      "outputs": []
    },
    {
      "cell_type": "markdown",
      "source": [
        "Data Exploration"
      ],
      "metadata": {
        "id": "AljMLBiPwwGM"
      }
    },
    {
      "cell_type": "code",
      "source": [
        "print(df.head())"
      ],
      "metadata": {
        "colab": {
          "base_uri": "https://localhost:8080/"
        },
        "id": "z_QyeGsdwsE5",
        "outputId": "eb01d518-f4f9-410a-a30a-0bb820084f38"
      },
      "execution_count": null,
      "outputs": [
        {
          "output_type": "stream",
          "name": "stdout",
          "text": [
            "   R&D Spend  Administration  Marketing Spend     Profit\n",
            "0  165349.20       136897.80        471784.10  192261.83\n",
            "1  162597.70       151377.59        443898.53  191792.06\n",
            "2  153441.51       101145.55        407934.54  191050.39\n",
            "3  144372.41       118671.85        383199.62  182901.99\n",
            "4  142107.34        91391.77        366168.42  166187.94\n"
          ]
        }
      ]
    },
    {
      "cell_type": "code",
      "source": [
        "print(df.info())"
      ],
      "metadata": {
        "colab": {
          "base_uri": "https://localhost:8080/"
        },
        "id": "kq1SRNqOwzG6",
        "outputId": "19e477f2-58a3-475e-f74f-9f2e9154d2b8"
      },
      "execution_count": null,
      "outputs": [
        {
          "output_type": "stream",
          "name": "stdout",
          "text": [
            "<class 'pandas.core.frame.DataFrame'>\n",
            "RangeIndex: 50 entries, 0 to 49\n",
            "Data columns (total 4 columns):\n",
            " #   Column           Non-Null Count  Dtype  \n",
            "---  ------           --------------  -----  \n",
            " 0   R&D Spend        50 non-null     float64\n",
            " 1   Administration   50 non-null     float64\n",
            " 2   Marketing Spend  50 non-null     float64\n",
            " 3   Profit           50 non-null     float64\n",
            "dtypes: float64(4)\n",
            "memory usage: 1.7 KB\n",
            "None\n"
          ]
        }
      ]
    },
    {
      "cell_type": "code",
      "source": [
        "print(df.describe())"
      ],
      "metadata": {
        "colab": {
          "base_uri": "https://localhost:8080/"
        },
        "id": "HIldIdckw2te",
        "outputId": "d3beea30-37ce-4863-8d69-31423df8c00a"
      },
      "execution_count": null,
      "outputs": [
        {
          "output_type": "stream",
          "name": "stdout",
          "text": [
            "           R&D Spend  Administration  Marketing Spend         Profit\n",
            "count      50.000000       50.000000        50.000000      50.000000\n",
            "mean    73721.615600   121344.639600    211025.097800  112012.639200\n",
            "std     45902.256482    28017.802755    122290.310726   40306.180338\n",
            "min         0.000000    51283.140000         0.000000   14681.400000\n",
            "25%     39936.370000   103730.875000    129300.132500   90138.902500\n",
            "50%     73051.080000   122699.795000    212716.240000  107978.190000\n",
            "75%    101602.800000   144842.180000    299469.085000  139765.977500\n",
            "max    165349.200000   182645.560000    471784.100000  192261.830000\n"
          ]
        }
      ]
    },
    {
      "cell_type": "code",
      "source": [
        "print(df.isnull().sum())"
      ],
      "metadata": {
        "colab": {
          "base_uri": "https://localhost:8080/"
        },
        "id": "iFb5gkQ5xhzn",
        "outputId": "55eb1020-3283-48b8-fe3b-63ed7aebafc7"
      },
      "execution_count": null,
      "outputs": [
        {
          "output_type": "stream",
          "name": "stdout",
          "text": [
            "R&D Spend          0\n",
            "Administration     0\n",
            "Marketing Spend    0\n",
            "Profit             0\n",
            "dtype: int64\n"
          ]
        }
      ]
    },
    {
      "cell_type": "markdown",
      "source": [
        "Data Visualisation"
      ],
      "metadata": {
        "id": "nBZF3d7kybbW"
      }
    },
    {
      "cell_type": "code",
      "source": [
        "df[['R&D Spend', 'Administration', 'Marketing Spend', 'Profit']].hist(bins=20, figsize=(10, 8))\n",
        "plt.suptitle(\"Feature Distributions\")\n",
        "plt.show()"
      ],
      "metadata": {
        "colab": {
          "base_uri": "https://localhost:8080/",
          "height": 756
        },
        "id": "uMCMsUNmydFM",
        "outputId": "c623edff-c4a1-489a-9616-b6d9edd9e9ff"
      },
      "execution_count": null,
      "outputs": [
        {
          "output_type": "display_data",
          "data": {
            "text/plain": [
              "<Figure size 1000x800 with 4 Axes>"
            ],
            "image/png": "[encoded data removed]"
          },
          "metadata": {}
        }
      ]
    },
    {
      "cell_type": "markdown",
      "source": [
        "Data Preprocessing and Splitting the Dataset"
      ],
      "metadata": {
        "id": "ndOOyTAixA9M"
      }
    },
    {
      "cell_type": "code",
      "source": [
        "X = df[['R&D Spend', 'Administration', 'Marketing Spend']]\n",
        "y = df['Profit']\n",
        "X_train, X_test, y_train, y_test = train_test_split(X, y, test_size=0.2, random_state=42)"
      ],
      "metadata": {
        "id": "CbMKjRzbyn-b"
      },
      "execution_count": null,
      "outputs": []
    },
    {
      "cell_type": "markdown",
      "source": [
        "Model Initialization"
      ],
      "metadata": {
        "id": "1NniC9FnxG3p"
      }
    },
    {
      "cell_type": "code",
      "source": [
        "models = {\n",
        "    'Linear Regression': LinearRegression(),\n",
        "    'Polynomial Regression (Degree 2)': make_pipeline(PolynomialFeatures(degree=2), LinearRegression()),\n",
        "    'Ridge Regression': Ridge(alpha=1.0),\n",
        "    'Lasso Regression': Lasso(alpha=0.01),\n",
        "    'ElasticNet Regression': ElasticNet(alpha=0.01, l1_ratio=0.5),\n",
        "    'Decision Tree': DecisionTreeRegressor(random_state=42),\n",
        "    'Random Forest': RandomForestRegressor(random_state=42)\n",
        "}\n"
      ],
      "metadata": {
        "id": "eFBXPQ0izHgT"
      },
      "execution_count": null,
      "outputs": []
    },
    {
      "cell_type": "markdown",
      "source": [
        "Model Evaluation"
      ],
      "metadata": {
        "id": "9EkYov_1xRHt"
      }
    },
    {
      "cell_type": "code",
      "source": [
        "results = {}\n",
        "for name, model in models.items():\n",
        "    model.fit(X_train, y_train)\n",
        "    y_pred = model.predict(X_test)\n",
        "\n",
        "    results[name] = {\n",
        "        'MAE': mean_absolute_error(y_test, y_pred),\n",
        "        'MSE': mean_squared_error(y_test, y_pred),\n",
        "        'RMSE': np.sqrt(mean_squared_error(y_test, y_pred)),\n",
        "        'R² Score': r2_score(y_test, y_pred)\n",
        "    }\n",
        "results_df = pd.DataFrame(results).T\n",
        "print(results_df.sort_values(by='R² Score', ascending=False))\n"
      ],
      "metadata": {
        "colab": {
          "base_uri": "https://localhost:8080/"
        },
        "id": "bHRl1w9FzOHs",
        "outputId": "dd4995c2-3e94-49ac-bf6f-06efe7c988a4"
      },
      "execution_count": null,
      "outputs": [
        {
          "output_type": "stream",
          "name": "stdout",
          "text": [
            "                                           MAE           MSE          RMSE  \\\n",
            "Random Forest                      6437.497740  7.262501e+07   8522.030780   \n",
            "Lasso Regression                   6979.152252  8.092632e+07   8995.905803   \n",
            "ElasticNet Regression              6979.152252  8.092632e+07   8995.905803   \n",
            "Linear Regression                  6979.152252  8.092632e+07   8995.905803   \n",
            "Ridge Regression                   6979.152252  8.092632e+07   8995.905803   \n",
            "Polynomial Regression (Degree 2)   7506.064597  9.030488e+07   9502.888103   \n",
            "Decision Tree                     13755.664000  4.000265e+08  20000.661970   \n",
            "\n",
            "                                  R² Score  \n",
            "Random Forest                     0.910316  \n",
            "Lasso Regression                  0.900065  \n",
            "ElasticNet Regression             0.900065  \n",
            "Linear Regression                 0.900065  \n",
            "Ridge Regression                  0.900065  \n",
            "Polynomial Regression (Degree 2)  0.888484  \n",
            "Decision Tree                     0.506013  \n"
          ]
        }
      ]
    },
    {
      "cell_type": "markdown",
      "source": [
        "Model Comparison Visualization"
      ],
      "metadata": {
        "id": "nuh0DN7kxu7g"
      }
    },
    {
      "cell_type": "code",
      "source": [
        "import matplotlib.pyplot as plt\n",
        "\n",
        "models = ['RF', 'LR', 'ENR', 'RR', 'PR', 'DTR']\n",
        "r2 = [0.910316, 0.900065, 0.900065, 0.900065, 0.888484, 0.506013]\n",
        "plt.figure(figsize=(8,5))\n",
        "plt.bar(models, r2, color='skyblue')\n",
        "plt.xlabel('Models')\n",
        "plt.ylabel('R² Score')\n",
        "plt.title('Model vs R² Score')\n",
        "plt.ylim(0, 1)\n",
        "plt.grid(axis='y', linestyle='--', alpha=0.7)\n",
        "plt.show()"
      ],
      "metadata": {
        "colab": {
          "base_uri": "https://localhost:8080/",
          "height": 487
        },
        "id": "3Q5VQph_xiMH",
        "outputId": "a8a14a2a-93ad-4daa-af9e-0d5e6359d715"
      },
      "execution_count": null,
      "outputs": [
        {
          "output_type": "display_data",
          "data": {
            "text/plain": [
              "<Figure size 800x500 with 1 Axes>"
            ],
            "image/png": "[encoded data removed]"
          },
          "metadata": {}
        }
      ]
    },
    {
      "cell_type": "markdown",
      "source": [
        "Selection of best model"
      ],
      "metadata": {
        "id": "mni-AqEPxSh-"
      }
    },
    {
      "cell_type": "code",
      "source": [
        "import joblib\n",
        "joblib.dump(models['Random Forest'], 'best_model.pkl')\n"
      ],
      "metadata": {
        "colab": {
          "base_uri": "https://localhost:8080/"
        },
        "id": "3LL8X1f31H-6",
        "outputId": "8233f6e6-8536-4a2a-84bb-a5159fdc2ec6"
      },
      "execution_count": null,
      "outputs": [
        {
          "output_type": "execute_result",
          "data": {
            "text/plain": [
              "['best_model.pkl']"
            ]
          },
          "metadata": {},
          "execution_count": 11
        }
      ]
    },
    {
      "cell_type": "markdown",
      "source": [
        "Profit Prediction"
      ],
      "metadata": {
        "id": "uLGDfQjzxa-u"
      }
    },
    {
      "cell_type": "code",
      "source": [
        "def predict_profit(input_data, model_name='Random Forest'):\n",
        "    input_df = pd.DataFrame([input_data], columns=['R&D Spend', 'Administration', 'Marketing Spend'])\n",
        "    model = models[model_name]\n",
        "    model.fit(X_train, y_train)\n",
        "\n",
        "    predicted_profit = model.predict(input_df)\n",
        "    return predicted_profit[0]\n",
        "\n",
        "sample_input = [100672, 91790, 249744]\n",
        "\n",
        "best_model_name = results_df.index[0]\n",
        "predicted_profit = predict_profit(sample_input, best_model_name)\n",
        "print(f\"Predicted Profit using {best_model_name}: ${predicted_profit:.2f}\")\n"
      ],
      "metadata": {
        "colab": {
          "base_uri": "https://localhost:8080/"
        },
        "id": "Dc3FYRzfqmA_",
        "outputId": "b60c2953-78b0-4cac-f09c-c2b3289c37bd"
      },
      "execution_count": null,
      "outputs": [
        {
          "output_type": "stream",
          "name": "stdout",
          "text": [
            "Predicted Profit using Linear Regression: $136557.11\n"
          ]
        }
      ]
    }
  ]
}